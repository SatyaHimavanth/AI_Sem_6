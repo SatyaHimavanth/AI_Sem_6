{
  "nbformat": 4,
  "nbformat_minor": 0,
  "metadata": {
    "colab": {
      "provenance": []
    },
    "kernelspec": {
      "name": "python3",
      "display_name": "Python 3"
    },
    "language_info": {
      "name": "python"
    }
  },
  "cells": [
    {
      "cell_type": "code",
      "execution_count": 1,
      "metadata": {
        "colab": {
          "base_uri": "https://localhost:8080/"
        },
        "id": "gCXpAb0hyR6H",
        "outputId": "2aed7f53-b08b-41f5-c57f-a50d0ed128f9"
      },
      "outputs": [
        {
          "output_type": "stream",
          "name": "stdout",
          "text": [
            "Enter position of the Vacuum machine, either 'A' or 'B' : A\n",
            "[[1, 1], [1, 0]] [[[0, 1], [0, 0]], [[0, 0], [0, 1]]]\n"
          ]
        }
      ],
      "source": [
        "pos = input(\"Enter position of the Vacuum machine, either 'A' or 'B' : \")\n",
        "\n",
        "# ['Dirty', 'Position']\n",
        "\n",
        "root = [[1, 0], [1, 0]]\n",
        "if pos=='A':\n",
        "    root[0][-1]=1\n",
        "else:\n",
        "    root[-1][-1]=1\n",
        "\n",
        "goal = [[[0, 1], [0, 0]], [[0, 0], [0, 1]]]\n",
        "\n",
        "print(root, goal)"
      ]
    },
    {
      "cell_type": "code",
      "source": [
        "import copy\n",
        "def Operation(c):\n",
        "    cond = copy.deepcopy(c)\n",
        "    location = 0 if cond[0][-1]==1 else 1\n",
        "    pos = []\n",
        "    if cond[location][0]==1:\n",
        "        cond[location][0]=0\n",
        "        pos.append(cond)\n",
        "    cond = copy.deepcopy(c)\n",
        "\n",
        "    cond[location][-1]=0\n",
        "    location = 1 if location==0 else 0\n",
        "    cond[location][-1]=1\n",
        "    pos.append(cond)\n",
        "\n",
        "    return pos"
      ],
      "metadata": {
        "id": "D1du0kk30ndD"
      },
      "execution_count": 7,
      "outputs": []
    },
    {
      "cell_type": "code",
      "source": [
        "def Vacuum_World_BFS(r, g):\n",
        "    open = [r]\n",
        "    closed = []\n",
        "    graph = {}\n",
        "    while (g[0] not in open):\n",
        "        print(open)\n",
        "        x = open.pop(0)\n",
        "        closed.append(x)\n",
        "        pos = Operation(x)\n",
        "        graph[str(x)]=pos\n",
        "        for i in pos:\n",
        "            if i not in open+closed:\n",
        "                open.append(i)\n",
        "    return graph\n",
        "\n",
        "graph = Vacuum_World_BFS(root, goal)"
      ],
      "metadata": {
        "colab": {
          "base_uri": "https://localhost:8080/"
        },
        "id": "FuJ9NZTmz2Sv",
        "outputId": "253145c3-fb4b-4642-c762-eeafbc6c869c"
      },
      "execution_count": 8,
      "outputs": [
        {
          "output_type": "stream",
          "name": "stdout",
          "text": [
            "[[[1, 1], [1, 0]]]\n",
            "[[[0, 1], [1, 0]], [[1, 0], [1, 1]]]\n",
            "[[[1, 0], [1, 1]], [[0, 0], [1, 1]]]\n",
            "[[[0, 0], [1, 1]], [[1, 0], [0, 1]]]\n",
            "[[[1, 0], [0, 1]], [[0, 0], [0, 1]]]\n",
            "[[[0, 0], [0, 1]], [[1, 1], [0, 0]]]\n"
          ]
        }
      ]
    },
    {
      "cell_type": "code",
      "source": [
        "graph"
      ],
      "metadata": {
        "id": "XQYedmlb8QGd",
        "colab": {
          "base_uri": "https://localhost:8080/"
        },
        "outputId": "517097f9-3e0c-4f2b-b747-6f0a26b393c1"
      },
      "execution_count": 9,
      "outputs": [
        {
          "output_type": "execute_result",
          "data": {
            "text/plain": [
              "{'[[1, 1], [1, 0]]': [[[0, 1], [1, 0]], [[1, 0], [1, 1]]],\n",
              " '[[0, 1], [1, 0]]': [[[0, 0], [1, 1]]],\n",
              " '[[1, 0], [1, 1]]': [[[1, 0], [0, 1]], [[1, 1], [1, 0]]],\n",
              " '[[0, 0], [1, 1]]': [[[0, 0], [0, 1]], [[0, 1], [1, 0]]],\n",
              " '[[1, 0], [0, 1]]': [[[1, 1], [0, 0]]],\n",
              " '[[0, 0], [0, 1]]': [[[0, 1], [0, 0]]]}"
            ]
          },
          "metadata": {},
          "execution_count": 9
        }
      ]
    },
    {
      "cell_type": "code",
      "source": [
        "def Vacuum_World_DFS(r, g):\n",
        "    open = [r]\n",
        "    closed = []\n",
        "    graph = {}\n",
        "    while (g[0] not in open):\n",
        "        print(open)\n",
        "        x = open.pop(0)\n",
        "        closed.append(x)\n",
        "        pos = Operation(x)\n",
        "        graph[str(x)]=pos\n",
        "        for i in pos[::-1]:\n",
        "            if i not in open+closed:\n",
        "                open.append(i)\n",
        "    return graph\n",
        "\n",
        "graph = Vacuum_World_DFS(root, goal)"
      ],
      "metadata": {
        "colab": {
          "base_uri": "https://localhost:8080/"
        },
        "id": "4q0dHQrDI8_V",
        "outputId": "a1fbef43-a9e8-432a-cb4d-baac86e80dbe"
      },
      "execution_count": 10,
      "outputs": [
        {
          "output_type": "stream",
          "name": "stdout",
          "text": [
            "[[[1, 1], [1, 0]]]\n",
            "[[[1, 0], [1, 1]], [[0, 1], [1, 0]]]\n",
            "[[[0, 1], [1, 0]], [[1, 0], [0, 1]]]\n",
            "[[[1, 0], [0, 1]], [[0, 0], [1, 1]]]\n",
            "[[[0, 0], [1, 1]], [[1, 1], [0, 0]]]\n",
            "[[[1, 1], [0, 0]], [[0, 0], [0, 1]]]\n"
          ]
        }
      ]
    },
    {
      "cell_type": "code",
      "source": [
        "graph"
      ],
      "metadata": {
        "colab": {
          "base_uri": "https://localhost:8080/"
        },
        "id": "E-qoT7TnJyiH",
        "outputId": "a36ad633-c50d-4e2a-8b26-9f3a43503603"
      },
      "execution_count": 11,
      "outputs": [
        {
          "output_type": "execute_result",
          "data": {
            "text/plain": [
              "{'[[1, 1], [1, 0]]': [[[0, 1], [1, 0]], [[1, 0], [1, 1]]],\n",
              " '[[1, 0], [1, 1]]': [[[1, 0], [0, 1]], [[1, 1], [1, 0]]],\n",
              " '[[0, 1], [1, 0]]': [[[0, 0], [1, 1]]],\n",
              " '[[1, 0], [0, 1]]': [[[1, 1], [0, 0]]],\n",
              " '[[0, 0], [1, 1]]': [[[0, 0], [0, 1]], [[0, 1], [1, 0]]],\n",
              " '[[1, 1], [0, 0]]': [[[0, 1], [0, 0]], [[1, 0], [0, 1]]]}"
            ]
          },
          "metadata": {},
          "execution_count": 11
        }
      ]
    }
  ]
}