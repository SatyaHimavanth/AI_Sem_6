{
  "nbformat": 4,
  "nbformat_minor": 0,
  "metadata": {
    "colab": {
      "provenance": []
    },
    "kernelspec": {
      "name": "python3",
      "display_name": "Python 3"
    },
    "language_info": {
      "name": "python"
    }
  },
  "cells": [
    {
      "cell_type": "code",
      "execution_count": 1,
      "metadata": {
        "colab": {
          "base_uri": "https://localhost:8080/"
        },
        "id": "gCXpAb0hyR6H",
        "outputId": "2aed7f53-b08b-41f5-c57f-a50d0ed128f9"
      },
      "outputs": [
        {
          "output_type": "stream",
          "name": "stdout",
          "text": [
            "Enter position of the Vacuum machine, either 'A' or 'B' : A\n",
            "[[1, 1], [1, 0]] [[[0, 1], [0, 0]], [[0, 0], [0, 1]]]\n"
          ]
        }
      ],
      "source": [
        "pos = input(\"Enter position of the Vacuum machine, either 'A' or 'B' : \")\n",
        "\n",
        "# ['Dirty', 'Position']\n",
        "\n",
        "root = [[1, 0], [1, 0]]\n",
        "if pos=='A':\n",
        "    root[0][-1]=1\n",
        "else:\n",
        "    root[-1][-1]=1\n",
        "\n",
        "goal = [[[0, 1], [0, 0]], [[0, 0], [0, 1]]]\n",
        "\n",
        "print(root, goal)"
      ]
    },
    {
      "cell_type": "code",
      "source": [
        "import copy\n",
        "def Operation(c):\n",
        "    cond = copy.deepcopy(c)\n",
        "    location = 0 if cond[0][-1]==1 else 1\n",
        "    pos = []\n",
        "    if cond[location][0]==1:\n",
        "        cond[location][0]=0\n",
        "        pos.append(cond)\n",
        "    cond = copy.deepcopy(c)\n",
        "\n",
        "    cond[location][-1]=0\n",
        "    location = 1 if location==0 else 0\n",
        "    cond[location][-1]=1\n",
        "    pos.append(cond)\n",
        "\n",
        "    return pos"
      ],
      "metadata": {
        "id": "D1du0kk30ndD"
      },
      "execution_count": 2,
      "outputs": []
    },
    {
      "cell_type": "code",
      "source": [
        "def Vacuum_World_BFS(r, g):\n",
        "    open = [r]\n",
        "    closed = []\n",
        "    graph = {}\n",
        "    while (g[0] not in open):\n",
        "        print(open)\n",
        "        x = open.pop(0)\n",
        "        closed.append(x)\n",
        "        pos = Operation(x)\n",
        "        graph[str(x)]=pos\n",
        "        for i in pos:\n",
        "            if i not in open+closed:\n",
        "                open.append(i)\n",
        "    return graph\n",
        "\n",
        "graph = Vacuum_World_BFS(root, goal)"
      ],
      "metadata": {
        "colab": {
          "base_uri": "https://localhost:8080/"
        },
        "id": "FuJ9NZTmz2Sv",
        "outputId": "66e05f41-b0d1-4ecc-c66a-8701980d8d1f"
      },
      "execution_count": 5,
      "outputs": [
        {
          "output_type": "stream",
          "name": "stdout",
          "text": [
            "[[[1, 1], [1, 0]]]\n",
            "[[[0, 1], [1, 0]], [[1, 0], [1, 1]]]\n",
            "[[[1, 0], [1, 1]], [[0, 0], [1, 1]]]\n",
            "[[[0, 0], [1, 1]], [[1, 0], [0, 1]]]\n",
            "[[[1, 0], [0, 1]], [[0, 0], [0, 1]]]\n",
            "[[[0, 0], [0, 1]], [[1, 1], [0, 0]]]\n"
          ]
        }
      ]
    },
    {
      "cell_type": "code",
      "source": [
        "graph"
      ],
      "metadata": {
        "id": "XQYedmlb8QGd",
        "colab": {
          "base_uri": "https://localhost:8080/"
        },
        "outputId": "2d88a3ca-70a7-46de-9644-1b33fa86d611"
      },
      "execution_count": null,
      "outputs": [
        {
          "output_type": "execute_result",
          "data": {
            "text/plain": [
              "{'[[1, 1], [1, 0]]': [[[0, 1], [1, 0]], [[1, 0], [1, 1]]],\n",
              " '[[0, 1], [1, 0]]': [[[0, 0], [1, 1]]],\n",
              " '[[1, 0], [1, 1]]': [[[1, 0], [0, 1]], [[1, 1], [1, 0]]],\n",
              " '[[0, 0], [1, 1]]': [[[0, 0], [0, 1]], [[0, 1], [1, 0]]],\n",
              " '[[1, 0], [0, 1]]': [[[1, 1], [0, 0]]],\n",
              " '[[0, 0], [0, 1]]': [[[0, 1], [0, 0]]]}"
            ]
          },
          "metadata": {},
          "execution_count": 4
        }
      ]
    },
    {
      "cell_type": "code",
      "source": [
        "def Vacuum_World_DFS(r, g):\n",
        "    open = [r]\n",
        "    closed = []\n",
        "    graph = {}\n",
        "    while (g[0] not in open):\n",
        "        print(open)\n",
        "        x = open.pop(0)\n",
        "        closed.append(x)\n",
        "        pos = Operation(x)\n",
        "        graph[str(x)]=pos\n",
        "        for i in pos[::-1]:\n",
        "            if i not in open+closed:\n",
        "                open.append(i)\n",
        "    return graph\n",
        "\n",
        "graph = Vacuum_World_DFS(root, goal)"
      ],
      "metadata": {
        "colab": {
          "base_uri": "https://localhost:8080/"
        },
        "id": "4q0dHQrDI8_V",
        "outputId": "f4b94bf5-c408-4a09-fe94-39adde80e4b9"
      },
      "execution_count": 6,
      "outputs": [
        {
          "output_type": "stream",
          "name": "stdout",
          "text": [
            "[[[1, 1], [1, 0]]]\n",
            "[[[1, 0], [1, 1]], [[0, 1], [1, 0]]]\n",
            "[[[0, 1], [1, 0]], [[1, 0], [0, 1]]]\n",
            "[[[1, 0], [0, 1]], [[0, 0], [1, 1]]]\n",
            "[[[0, 0], [1, 1]], [[1, 1], [0, 0]]]\n",
            "[[[1, 1], [0, 0]], [[0, 0], [0, 1]]]\n"
          ]
        }
      ]
    },
    {
      "cell_type": "code",
      "source": [
        "graph"
      ],
      "metadata": {
        "colab": {
          "base_uri": "https://localhost:8080/"
        },
        "id": "E-qoT7TnJyiH",
        "outputId": "678b7e14-2ef5-4612-eccd-2d4bbcf2fe6d"
      },
      "execution_count": null,
      "outputs": [
        {
          "output_type": "execute_result",
          "data": {
            "text/plain": [
              "{'[[1, 1], [1, 0]]': [[[0, 1], [1, 0]], [[1, 0], [1, 1]]],\n",
              " '[[0, 1], [1, 0]]': [[[0, 0], [1, 1]]],\n",
              " '[[1, 0], [1, 1]]': [[[1, 0], [0, 1]], [[1, 1], [1, 0]]],\n",
              " '[[0, 0], [1, 1]]': [[[0, 0], [0, 1]], [[0, 1], [1, 0]]],\n",
              " '[[1, 0], [0, 1]]': [[[1, 1], [0, 0]]],\n",
              " '[[0, 0], [0, 1]]': [[[0, 1], [0, 0]]]}"
            ]
          },
          "metadata": {},
          "execution_count": 6
        }
      ]
    }
  ]
}