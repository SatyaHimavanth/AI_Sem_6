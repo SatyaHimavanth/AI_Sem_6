{
  "nbformat": 4,
  "nbformat_minor": 0,
  "metadata": {
    "colab": {
      "provenance": []
    },
    "kernelspec": {
      "name": "python3",
      "display_name": "Python 3"
    },
    "language_info": {
      "name": "python"
    }
  },
  "cells": [
    {
      "cell_type": "code",
      "execution_count": null,
      "metadata": {
        "colab": {
          "base_uri": "https://localhost:8080/"
        },
        "id": "emDVbiFzBGPx",
        "outputId": "6b9ab4f6-c77e-4ed0-88dd-447ad7d4d0ee"
      },
      "outputs": [
        {
          "output_type": "stream",
          "name": "stdout",
          "text": [
            "{'A': ['B', 'C', 'D'], 'B': ['E', 'F', 'A'], 'C': ['F', 'G', 'A'], 'D': ['A'], 'E': ['H', 'I', 'B'], 'F': ['J', 'B', 'C'], 'G': ['C'], 'H': ['E'], 'I': ['E'], 'J': ['F']}\n"
          ]
        }
      ],
      "source": [
        "graph = {\n",
        "    'A': ['B', 'C', 'D'],\n",
        "    'B': ['E', 'F', 'A'],\n",
        "    'C': ['F', 'G', 'A'],\n",
        "    'D': ['A'],\n",
        "    'E': ['H', 'I', 'B'],\n",
        "    'F': ['J', 'B', 'C'],\n",
        "    'G': ['C'],\n",
        "    'H': ['E'],\n",
        "    'I': ['E'],\n",
        "    'J': ['F']\n",
        "}\n",
        "print(graph)"
      ]
    },
    {
      "cell_type": "code",
      "source": [
        "def Bidirectional_BFS(g, root, goal):\n",
        "    flag = 0\n",
        "    open1 = [root]\n",
        "    closed1 = []\n",
        "    open2 = [goal]\n",
        "    closed2 = []\n",
        "    graph1 = {}\n",
        "    graph2={}\n",
        "    while(len(set(open1+open2))==len(open1+open2)):\n",
        "        # Front\n",
        "        x1 = open1.pop(0)\n",
        "        closed1.append(x1)\n",
        "        sub_nodes = g[x1]\n",
        "        graph1[x1]=[]\n",
        "        for i in sub_nodes:\n",
        "            if i not in open1+closed1:\n",
        "                graph1[x1].append(i)\n",
        "                open1.append(i)\n",
        "\n",
        "        #Back\n",
        "        x2 = open2.pop(0)\n",
        "        closed2.append(x2)\n",
        "        sub_nodes = g[x2]\n",
        "        graph2[x2]=[]\n",
        "        for i in sub_nodes:\n",
        "            if i not in open2+closed2:\n",
        "                graph2[x2].append(i)\n",
        "                open2.append(i)\n",
        "    # print(graph1, graph2)\n",
        "    path1, path2 = [], []\n",
        "    match_ele = ''\n",
        "    for i in open1:\n",
        "        if i in open2:\n",
        "            match_ele = i\n",
        "            break\n",
        "    x1, x2 = match_ele, match_ele\n",
        "    while root!=x1:\n",
        "        for i in graph1.keys():\n",
        "            if x1 in graph1[i]:\n",
        "                path1.insert(0, i)\n",
        "                break\n",
        "        x1 = path1[0]\n",
        "    path1.append(match_ele)\n",
        "\n",
        "    while goal!=x2:\n",
        "        for i in graph2.keys():\n",
        "            if x2 in graph2[i]:\n",
        "                path2.insert(0, i)\n",
        "                break\n",
        "        x2 = path2[0]\n",
        "\n",
        "    print(\"Final Path : \",path1+path2[::-1])\n",
        "\n",
        "root = input('Enter root node : ')\n",
        "goal = input('Enter Goal node : ')\n",
        "Bidirectional_BFS(graph, root, goal)"
      ],
      "metadata": {
        "colab": {
          "base_uri": "https://localhost:8080/"
        },
        "id": "uXGnUm38CCTQ",
        "outputId": "49c5de1a-5c4b-4dba-fc51-3435e4e8c077"
      },
      "execution_count": 15,
      "outputs": [
        {
          "output_type": "stream",
          "name": "stdout",
          "text": [
            "Enter root node : A\n",
            "Enter Goal node : J\n",
            "Final Path :  ['A', 'C', 'F', 'J']\n"
          ]
        }
      ]
    }
  ]
}