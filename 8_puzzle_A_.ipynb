{
  "nbformat": 4,
  "nbformat_minor": 0,
  "metadata": {
    "colab": {
      "provenance": []
    },
    "kernelspec": {
      "name": "python3",
      "display_name": "Python 3"
    },
    "language_info": {
      "name": "python"
    }
  },
  "cells": [
    {
      "cell_type": "code",
      "execution_count": null,
      "metadata": {
        "id": "8us9ouFaWozq"
      },
      "outputs": [],
      "source": [
        "Initial = [[2 ,8, 3],\n",
        "           [1, 6 ,4],\n",
        "           [7, 0, 5]]\n",
        "Goal = [[1, 2, 3],\n",
        "        [8, 0, 4],\n",
        "        [7, 6, 5]]"
      ]
    },
    {
      "cell_type": "code",
      "source": [
        "import copy\n",
        "def  Modified(s, i, f):\n",
        "    state = copy.deepcopy(s)\n",
        "    state[f[0]][f[1]], state[i[0]][i[1]]  = state[i[0]][i[1]], state[f[0]][f[1]]\n",
        "    return state"
      ],
      "metadata": {
        "id": "moatqkytczv2"
      },
      "execution_count": null,
      "outputs": []
    },
    {
      "cell_type": "code",
      "source": [
        "def Possibility(state, goal, g, previous):\n",
        "    n = len(state)\n",
        "    for i in range(n):\n",
        "        if 0 in state[i]:\n",
        "            x, y = i, state[i].index(0)\n",
        "            break\n",
        "    current = [x, y]\n",
        "    pos = []\n",
        "    move = []\n",
        "    if x > 0 and previous!='u':\n",
        "        pos.append([x-1, y])\n",
        "        move.append('d')\n",
        "    if x < n-1 and previous!='d':\n",
        "        pos.append([x+1, y])\n",
        "        move.append('u')\n",
        "    if y > 0 and previous!='r':\n",
        "        pos.append([x, y-1])\n",
        "        move.append('l')\n",
        "    if y < n-1 and previous!='l':\n",
        "        pos.append([x, y+1])\n",
        "        move.append('r')\n",
        "    res = []\n",
        "    for i in pos:\n",
        "        a = Modified(state, current, i)\n",
        "        res.append(a)\n",
        "    f_n = []\n",
        "    for i in res:\n",
        "        f_n.append(Heuristic(i, goal)+g)\n",
        "    least = f_n.index(min(f_n))\n",
        "    return res[least], move[least]"
      ],
      "metadata": {
        "id": "pPEBBk_NZ9W8"
      },
      "execution_count": null,
      "outputs": []
    },
    {
      "cell_type": "code",
      "source": [
        "def Heuristic(state, goal):\n",
        "    h = 0\n",
        "    for i in range(len(state)):\n",
        "        for j in range(len(state[0])):\n",
        "            if state[i][j]!=goal[i][j]:\n",
        "                h+=1\n",
        "    return h-1\n",
        "Heuristic(Initial, Goal)"
      ],
      "metadata": {
        "colab": {
          "base_uri": "https://localhost:8080/"
        },
        "id": "jkIud0geX5kK",
        "outputId": "8986eb84-e9df-4feb-bef4-2207a533ee1b"
      },
      "execution_count": null,
      "outputs": [
        {
          "output_type": "execute_result",
          "data": {
            "text/plain": [
              "4"
            ]
          },
          "metadata": {},
          "execution_count": 5
        }
      ]
    },
    {
      "cell_type": "code",
      "source": [
        "import time"
      ],
      "metadata": {
        "id": "Bbx2ShuBGNSM"
      },
      "execution_count": null,
      "outputs": []
    },
    {
      "cell_type": "code",
      "source": [
        "def Eight_Puzzle(initial, goal):\n",
        "    g=0\n",
        "    open = [initial]\n",
        "    closed = []\n",
        "    previous = ''\n",
        "    while goal not in open:\n",
        "        print(open)\n",
        "        x = open.pop(0)\n",
        "        pos, previous = Possibility(x, goal, g, previous)\n",
        "        open.append(pos)\n",
        "        g+=1\n",
        "        time.sleep(.5)\n",
        "    print(open)\n",
        "\n",
        "Eight_Puzzle(Initial, Goal)"
      ],
      "metadata": {
        "id": "UxP5ZtLNZeWW",
        "colab": {
          "base_uri": "https://localhost:8080/"
        },
        "outputId": "c64ba892-b70e-4782-cef3-1b3c0e86f7d2"
      },
      "execution_count": null,
      "outputs": [
        {
          "output_type": "stream",
          "name": "stdout",
          "text": [
            "[[[2, 8, 3], [1, 6, 4], [7, 0, 5]]]\n",
            "[[[2, 8, 3], [1, 0, 4], [7, 6, 5]]]\n",
            "[[[2, 0, 3], [1, 8, 4], [7, 6, 5]]]\n",
            "[[[0, 2, 3], [1, 8, 4], [7, 6, 5]]]\n",
            "[[[1, 2, 3], [0, 8, 4], [7, 6, 5]]]\n",
            "[[[1, 2, 3], [8, 0, 4], [7, 6, 5]]]\n"
          ]
        }
      ]
    }
  ]
}