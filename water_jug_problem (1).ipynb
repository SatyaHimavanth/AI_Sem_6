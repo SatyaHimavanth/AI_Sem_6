{
  "nbformat": 4,
  "nbformat_minor": 0,
  "metadata": {
    "colab": {
      "provenance": []
    },
    "kernelspec": {
      "name": "python3",
      "display_name": "Python 3"
    },
    "language_info": {
      "name": "python"
    }
  },
  "cells": [
    {
      "cell_type": "code",
      "execution_count": null,
      "metadata": {
        "colab": {
          "base_uri": "https://localhost:8080/"
        },
        "id": "tmvicvL9R87y",
        "outputId": "f74eaf35-b457-4b7f-ffec-147b5bf34460"
      },
      "outputs": [
        {
          "name": "stdout",
          "output_type": "stream",
          "text": [
            "Enter jug capacities : 5 3\n",
            "Enter final result : 4\n",
            "Enter max no of steps : 10\n"
          ]
        }
      ],
      "source": [
        "m, n = [int(x) for x in input(\"Enter jug capacities : \").split()]\n",
        "res = int(input(\"Enter final result : \"))\n",
        "steps = int(input(\"Enter max no of steps : \"))"
      ]
    },
    {
      "cell_type": "code",
      "source": [],
      "metadata": {
        "id": "xRifDr8kCoPC"
      },
      "execution_count": null,
      "outputs": []
    },
    {
      "cell_type": "code",
      "source": [
        "print(\"Rules are :\\n1 fill jug m\\n2 Empty jug m\\n3 fill jug n\\n4 empty jug n\\n5 empty jug n into m\\n6 empty jug m into n\\n7 pour water form n to m\\n8 pour water from m to n\")"
      ],
      "metadata": {
        "colab": {
          "base_uri": "https://localhost:8080/"
        },
        "id": "sDQrFJsGS0-O",
        "outputId": "c6e58cb1-962d-44b1-a318-5ae08435a907"
      },
      "execution_count": null,
      "outputs": [
        {
          "output_type": "stream",
          "name": "stdout",
          "text": [
            "Rules are :\n",
            "1 fill jug m\n",
            "2 Empty jug m\n",
            "3 fill jug n\n",
            "4 empty jug n\n",
            "5 empty jug n into m\n",
            "6 empty jug m into n\n",
            "7 pour water form n to m\n",
            "8 pour water from m to n\n"
          ]
        }
      ]
    },
    {
      "cell_type": "code",
      "source": [
        "x=0\n",
        "y=0\n",
        "chk=0\n",
        "\n",
        "while(x!=res and chk<steps):\n",
        "    if(x==res):\n",
        "        print(\"End\")\n",
        "    elif(x==0):\n",
        "        x=x+m\n",
        "        print(\"1\", x, y)\n",
        "    elif(y==n):\n",
        "        y=0\n",
        "        print(\"4\", x, y)\n",
        "    elif(x==m):\n",
        "        a=n-y\n",
        "        x=x-a\n",
        "        y=n\n",
        "        print(\"8\", x ,y)\n",
        "    elif(x<n-y):\n",
        "        y=x+y\n",
        "        x=0\n",
        "        print(\"6\", x, y)\n",
        "    chk+=1\n",
        "\n",
        "if(x!=res):\n",
        "    print(\"Try increasing no of steps or it might not be possible\")\n",
        "else:\n",
        "    print(\"Final result\")"
      ],
      "metadata": {
        "colab": {
          "base_uri": "https://localhost:8080/"
        },
        "id": "2qr23Nx59mLS",
        "outputId": "6ceae9ec-2100-4023-9423-9424d938220b"
      },
      "execution_count": null,
      "outputs": [
        {
          "output_type": "stream",
          "name": "stdout",
          "text": [
            "1 5 0\n",
            "8 2 3\n",
            "4 2 0\n",
            "6 0 2\n",
            "1 5 2\n",
            "8 4 3\n",
            "Final result\n"
          ]
        }
      ]
    },
    {
      "cell_type": "code",
      "source": [
        "x=0\n",
        "y=0\n",
        "chk=0\n",
        "while(x!=res and chk<steps):\n",
        "    if(y==0):\n",
        "        y=n\n",
        "        print(\"3\", x, y)\n",
        "    elif(m-x>y):\n",
        "        x=x+y\n",
        "        y=0\n",
        "        print(\"5\", x, y)\n",
        "    elif(x==m):\n",
        "        x=0\n",
        "        print(\"2\", x, y)\n",
        "    elif(y!=0 and m-x<y):\n",
        "        a=m-x\n",
        "        x=x+a\n",
        "        y=y-a\n",
        "        print(\"7\", x, y)\n",
        "    chk+=1\n",
        "\n",
        "if(x!=res):\n",
        "    print(\"Try increasing no of steps or it might not be possible\")\n",
        "else:\n",
        "    print(\"Final result\")"
      ],
      "metadata": {
        "colab": {
          "base_uri": "https://localhost:8080/"
        },
        "id": "0pEGfn5jT1po",
        "outputId": "dc8150d2-58f4-4da1-af9a-e8e2493f324d"
      },
      "execution_count": null,
      "outputs": [
        {
          "output_type": "stream",
          "name": "stdout",
          "text": [
            "3 0 3\n",
            "5 3 0\n",
            "3 3 3\n",
            "7 5 1\n",
            "2 0 1\n",
            "5 1 0\n",
            "3 1 3\n",
            "5 4 0\n",
            "Final result\n"
          ]
        }
      ]
    },
    {
      "cell_type": "markdown",
      "source": [
        "## Automatic"
      ],
      "metadata": {
        "id": "cDOogTUkzkOH"
      }
    },
    {
      "cell_type": "code",
      "source": [
        "print(\"Rules are :\\n1 fill jug m\\n2 Empty jug m\\n3 fill jug n\\n4 empty jug n\\n5 empty jug n into m\\n6 empty jug m into n\\n7 pour water form n to m\\n8 pour water from m to n\")"
      ],
      "metadata": {
        "colab": {
          "base_uri": "https://localhost:8080/"
        },
        "id": "_l-6si8Kzjxs",
        "outputId": "0cc1584f-1ef5-42f1-d46d-41a89031444e"
      },
      "execution_count": null,
      "outputs": [
        {
          "output_type": "stream",
          "name": "stdout",
          "text": [
            "Rules are :\n",
            "1 fill jug m\n",
            "2 Empty jug m\n",
            "3 fill jug n\n",
            "4 empty jug n\n",
            "5 empty jug n into m\n",
            "6 empty jug m into n\n",
            "7 pour water form n to m\n",
            "8 pour water from m to n\n"
          ]
        }
      ]
    },
    {
      "cell_type": "markdown",
      "source": [
        "## Water Jug Problem using BFS"
      ],
      "metadata": {
        "id": "6fltu2HXVKOC"
      }
    },
    {
      "cell_type": "code",
      "source": [
        "m, n = [int(x) for x in input(\"Enter jug capacities : \").split()]\n",
        "res = int(input(\"Enter final result : \"))"
      ],
      "metadata": {
        "colab": {
          "base_uri": "https://localhost:8080/"
        },
        "id": "jGqZeG9yzoHF",
        "outputId": "51c9cc69-6d0f-4dad-bad1-7d776547736d"
      },
      "execution_count": null,
      "outputs": [
        {
          "name": "stdout",
          "output_type": "stream",
          "text": [
            "Enter jug capacities : 5 4\n",
            "Enter final result : 2\n"
          ]
        }
      ]
    },
    {
      "cell_type": "code",
      "source": [
        "print(\"1 fill\\n2 empty\\n3 transfer\")"
      ],
      "metadata": {
        "id": "ak-rQMX40rNk",
        "colab": {
          "base_uri": "https://localhost:8080/"
        },
        "outputId": "025fac91-efae-4783-e3f8-72e418443337"
      },
      "execution_count": null,
      "outputs": [
        {
          "output_type": "stream",
          "name": "stdout",
          "text": [
            "1 fill\n",
            "2 empty\n",
            "3 transfer\n"
          ]
        }
      ]
    },
    {
      "cell_type": "code",
      "source": [
        "root = [0, 0]\n",
        "dest = [res, 0]\n",
        "\n",
        "def water_jug_bfs(r, d, m, n): #5, 3\n",
        "    visited = []\n",
        "    open = [r]\n",
        "    graph = {}\n",
        "    while(d not in open):\n",
        "        layer = []\n",
        "        for i in open:\n",
        "            pos = []\n",
        "            if(i[0]==0):\n",
        "                pos.append([m, i[1]])\n",
        "            if(i[1]==0):\n",
        "                pos.append([i[0], n])\n",
        "            if(i[0]==m):\n",
        "                pos.append([0, i[1]])\n",
        "            if(i[1]==n):\n",
        "                pos.append([i[0], 0])\n",
        "            if(i[1]>0 and m-i[0]>0):\n",
        "                a=m-i[0]\n",
        "                if a>=i[1]:\n",
        "                    pos.append([i[0]+i[1], 0])\n",
        "                else:\n",
        "                    pos.append([m, i[1]-a])\n",
        "            if(i[0]>0 and n-i[1]>0):\n",
        "                a=n-i[1]\n",
        "                if a>=i[0]:\n",
        "                    pos.append([0, i[0]+i[1]])\n",
        "                else:\n",
        "                    pos.append([i[0]-a, n])\n",
        "\n",
        "            graph[tuple(i)]=pos\n",
        "            layer+=pos\n",
        "\n",
        "        #print(layer)\n",
        "        for j in layer:\n",
        "            if j in visited:\n",
        "                layer.remove(j)\n",
        "        print(layer)\n",
        "        visited+=open\n",
        "        open=layer\n",
        "    #print(visited)\n",
        "    return graph\n",
        "\n",
        "g = water_jug_bfs(root, dest, m, n)"
      ],
      "metadata": {
        "colab": {
          "base_uri": "https://localhost:8080/"
        },
        "id": "iRajJilpVK-1",
        "outputId": "dcdfbdaa-703e-4695-b256-0b9f69b44561"
      },
      "execution_count": null,
      "outputs": [
        {
          "output_type": "stream",
          "name": "stdout",
          "text": [
            "[[5, 0], [0, 4]]\n",
            "[[5, 4], [1, 4], [5, 4], [4, 0]]\n",
            "[[1, 0], [5, 0], [4, 4], [0, 4]]\n",
            "[[0, 1], [0, 0], [5, 3], [0, 0], [4, 0]]\n",
            "[[5, 1], [5, 0], [0, 3], [5, 0], [4, 4]]\n",
            "[[2, 4], [0, 0], [3, 0], [0, 0], [4, 0], [5, 3]]\n",
            "[[2, 0], [5, 0], [3, 4], [5, 0], [0, 3], [4, 4]]\n"
          ]
        }
      ]
    },
    {
      "cell_type": "code",
      "source": [
        "def path_taken(g, r, d):\n",
        "    x = d\n",
        "    ans = [tuple(d)]\n",
        "    while(x != r):\n",
        "        for i in g.keys():\n",
        "            if x in g[i]:\n",
        "                ans.insert(0, i)\n",
        "                break\n",
        "        x = list(ans[0])\n",
        "    return ans\n",
        "\n",
        "path = path_taken(g, root, dest)\n",
        "path"
      ],
      "metadata": {
        "colab": {
          "base_uri": "https://localhost:8080/"
        },
        "id": "E5w32DZNXTog",
        "outputId": "e992f7e9-d861-4597-fe7c-0e15d8ddc415"
      },
      "execution_count": null,
      "outputs": [
        {
          "output_type": "execute_result",
          "data": {
            "text/plain": [
              "[(0, 0), (5, 0), (1, 4), (1, 0), (0, 1), (5, 1), (2, 4), (2, 0)]"
            ]
          },
          "metadata": {},
          "execution_count": 45
        }
      ]
    },
    {
      "cell_type": "markdown",
      "source": [
        "## Water Jug Problem using DFS"
      ],
      "metadata": {
        "id": "cgKkbmandF-C"
      }
    },
    {
      "cell_type": "code",
      "source": [
        "root = [0, 0]\n",
        "dest = [res, 0]\n",
        "\n",
        "def water_jug_dfs(r, d, m, n): #5, 3\n",
        "    visited = []\n",
        "    open = [r]\n",
        "    while(d not in open):\n",
        "        i=open[0]\n",
        "        pos = []\n",
        "        if(i[0]==0):\n",
        "            pos.append([m, i[1]])\n",
        "        if(i[1]==0):\n",
        "            pos.append([i[0], n])\n",
        "        if(i[0]==m):\n",
        "            pos.append([0, i[1]])\n",
        "        if(i[1]==n):\n",
        "            pos.append([i[0], 0])\n",
        "        if(i[1]>0 and m-i[0]>0):\n",
        "            a=m-i[0]\n",
        "            if a>=i[1]:\n",
        "                pos.append([i[0]+i[1], 0])\n",
        "            else:\n",
        "                pos.append([m, i[1]-a])\n",
        "        if(i[0]>0 and n-i[1]>0):\n",
        "            a=n-i[1]\n",
        "            if a>=i[0]:\n",
        "                pos.append([0, i[0]+i[1]])\n",
        "            else:\n",
        "                pos.append([i[0]-a, n])\n",
        "\n",
        "        visited.append(i)\n",
        "        open.remove(i)\n",
        "        open = pos+open\n",
        "        for j in visited:\n",
        "            if j in open:\n",
        "               open.remove(j)\n",
        "        print(open, \"     \", visited)\n",
        "    print(open)\n",
        "\n",
        "water_jug_dfs(root, dest, m, n)"
      ],
      "metadata": {
        "colab": {
          "base_uri": "https://localhost:8080/"
        },
        "id": "npCgK7rLcjC6",
        "outputId": "4d40e0a9-1cfc-4968-a33e-9eab4302a420"
      },
      "execution_count": null,
      "outputs": [
        {
          "output_type": "stream",
          "name": "stdout",
          "text": [
            "[[5, 0], [0, 4]]       [[0, 0]]\n",
            "[[5, 4], [1, 4], [0, 4]]       [[0, 0], [5, 0]]\n",
            "[[0, 4], [1, 4], [0, 4]]       [[0, 0], [5, 0], [5, 4]]\n",
            "[[4, 0], [1, 4]]       [[0, 0], [5, 0], [5, 4], [0, 4]]\n",
            "[[4, 4], [1, 4]]       [[0, 0], [5, 0], [5, 4], [0, 4], [4, 0]]\n",
            "[[5, 3], [1, 4]]       [[0, 0], [5, 0], [5, 4], [0, 4], [4, 0], [4, 4]]\n",
            "[[0, 3], [1, 4]]       [[0, 0], [5, 0], [5, 4], [0, 4], [4, 0], [4, 4], [5, 3]]\n",
            "[[3, 0], [1, 4]]       [[0, 0], [5, 0], [5, 4], [0, 4], [4, 0], [4, 4], [5, 3], [0, 3]]\n",
            "[[3, 4], [1, 4]]       [[0, 0], [5, 0], [5, 4], [0, 4], [4, 0], [4, 4], [5, 3], [0, 3], [3, 0]]\n",
            "[[5, 2], [1, 4]]       [[0, 0], [5, 0], [5, 4], [0, 4], [4, 0], [4, 4], [5, 3], [0, 3], [3, 0], [3, 4]]\n",
            "[[0, 2], [1, 4]]       [[0, 0], [5, 0], [5, 4], [0, 4], [4, 0], [4, 4], [5, 3], [0, 3], [3, 0], [3, 4], [5, 2]]\n",
            "[[2, 0], [1, 4]]       [[0, 0], [5, 0], [5, 4], [0, 4], [4, 0], [4, 4], [5, 3], [0, 3], [3, 0], [3, 4], [5, 2], [0, 2]]\n",
            "[[2, 0], [1, 4]]\n"
          ]
        }
      ]
    }
  ]
}