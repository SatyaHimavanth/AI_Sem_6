{
  "nbformat": 4,
  "nbformat_minor": 0,
  "metadata": {
    "colab": {
      "provenance": []
    },
    "kernelspec": {
      "name": "python3",
      "display_name": "Python 3"
    },
    "language_info": {
      "name": "python"
    }
  },
  "cells": [
    {
      "cell_type": "code",
      "execution_count": 8,
      "metadata": {
        "colab": {
          "base_uri": "https://localhost:8080/"
        },
        "id": "CKltzWJysCTH",
        "outputId": "d67c37fb-eb29-498e-d255-6ac310d6ed3d"
      },
      "outputs": [
        {
          "output_type": "stream",
          "name": "stdout",
          "text": [
            "Enter leaf nodes : 3 5 2 9 12 5 23 23\n",
            "Enter 1 if MAX, else enter 0 : 1\n",
            "[5, 9, 12, 23]\n",
            "[5, 12]\n",
            "[12]\n"
          ]
        }
      ],
      "source": [
        "def MIN_MAX(leafs, mode):\n",
        "    flag = mode #max\n",
        "    while(len(leafs)>1):\n",
        "        new = []\n",
        "        while len(leafs)>1:\n",
        "            x = leafs.pop(0)\n",
        "            y = leafs.pop(0)\n",
        "            if flag==1:\n",
        "                new.append(max(x, y))\n",
        "            else:\n",
        "                new.append(min(x, y))\n",
        "        if len(leafs)==1:\n",
        "            new.append(leafs.pop())\n",
        "        leafs = new\n",
        "        if flag == 1:\n",
        "            flag=0\n",
        "        else:\n",
        "            flag=1\n",
        "        print(leafs)\n",
        "\n",
        "#[3,5, 2,9, 12,5, 23,23]\n",
        "#[10, 100, 5, -10, 7, 5, -100, -7, -5]\n",
        "\n",
        "leaf_nodes = list(map(int, input(\"Enter leaf nodes : \").split()))\n",
        "mode = int(input(\"Enter 1 if MAX, else enter 0 : \"))\n",
        "\n",
        "MIN_MAX(leaf_nodes, mode)"
      ]
    }
  ]
}