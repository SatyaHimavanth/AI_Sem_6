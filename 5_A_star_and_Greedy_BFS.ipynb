{
  "nbformat": 4,
  "nbformat_minor": 0,
  "metadata": {
    "colab": {
      "provenance": []
    },
    "kernelspec": {
      "name": "python3",
      "display_name": "Python 3"
    },
    "language_info": {
      "name": "python"
    }
  },
  "cells": [
    {
      "cell_type": "markdown",
      "source": [
        "## A*"
      ],
      "metadata": {
        "id": "GoXMhNVSCfdg"
      }
    },
    {
      "cell_type": "code",
      "execution_count": null,
      "metadata": {
        "colab": {
          "base_uri": "https://localhost:8080/"
        },
        "id": "s4Fww1yIz24W",
        "outputId": "c3fb8417-9a99-443c-cb20-a75a82bd6297"
      },
      "outputs": [
        {
          "output_type": "stream",
          "name": "stdout",
          "text": [
            "{'S': {'A': 5, 'B': 2, 'C': 5}, 'A': {'D': 4, 'E': 2}, 'B': {'F': 3, 'G': 2}, 'C': {'H': 7}, 'D': {'L': 18}, 'E': {'K': 2}, 'F': {'I': 8}, 'G': {'F': 1}, 'H': {'I': 4, 'J': 1}, 'I': {'L': 8, 'M': 1}, 'J': {}, 'K': {'I': 12}, 'L': {}, 'M': {'L': 2}} {'S': 0, 'A': 2, 'B': 6, 'C': 5, 'D': 10, 'E': 8, 'F': 13, 'G': 14, 'H': 7, 'I': 5, 'J': 6, 'K': 1, 'L': 0, 'M': 1}\n"
          ]
        }
      ],
      "source": [
        "graph = {\n",
        "    'S':{'A':5, 'B':2, 'C':5},\n",
        "    'A':{'D':4, 'E':2},\n",
        "    'B':{'F':3, 'G':2},\n",
        "    'C':{'H':7},\n",
        "    'D':{'L':18},\n",
        "    'E':{'K':2},\n",
        "    'F':{'I':8},\n",
        "    'G':{'F':1},\n",
        "    'H':{'I':4, 'J':1},\n",
        "    'I':{'L':8, 'M':1},\n",
        "    'J':{},\n",
        "    'K':{'I':12},\n",
        "    'L':{},\n",
        "    'M':{'L':2}\n",
        "}\n",
        "\n",
        "h = {'S':0, 'A':2, 'B':6, 'C':5, 'D':10, 'E':8, 'F':13, 'G':14, 'H':7, 'I':5, 'J':6, 'K':1, 'L':0, 'M':1}\n",
        "\n",
        "print(graph, h)"
      ]
    },
    {
      "cell_type": "code",
      "source": [
        "def select_key(open):\n",
        "    least = 10000\n",
        "    node = ''\n",
        "    for i in open.keys():\n",
        "        if least>open[i]:\n",
        "            node = i\n",
        "            least=open[i]\n",
        "    return node"
      ],
      "metadata": {
        "id": "QYVEXqeg3xql"
      },
      "execution_count": null,
      "outputs": []
    },
    {
      "cell_type": "code",
      "source": [
        "def A_star(g, h, start, goal):\n",
        "    open = {start:h[start]}\n",
        "    closed = []\n",
        "    least_cost = 10000\n",
        "    while(goal not in closed):\n",
        "        node = select_key(open)\n",
        "        cost = open.pop(select_key(open))\n",
        "        closed.append(node)\n",
        "        to_be_updated = g[node].copy()\n",
        "        for i in to_be_updated.keys():\n",
        "            to_be_updated[i]=(cost-h[node]) + to_be_updated[i] + h[i]\n",
        "        open.update(to_be_updated)\n",
        "        if goal in open.keys():\n",
        "            if open[goal]<least_cost:\n",
        "                least_cost=open[goal]\n",
        "        print(open, closed)\n",
        "    return least_cost\n",
        "\n",
        "#A_star(graph, h, 'S', 'L')\n",
        "A_star(graph, h, 'A', 'I')"
      ],
      "metadata": {
        "id": "q_Aswimm2eF5",
        "colab": {
          "base_uri": "https://localhost:8080/"
        },
        "outputId": "c3e09737-936c-44d0-a19b-9dfa628e0889"
      },
      "execution_count": null,
      "outputs": [
        {
          "output_type": "stream",
          "name": "stdout",
          "text": [
            "{'B': 11, 'C': 6} ['A']\n",
            "{'B': 11, 'G': 13, 'H': 7, 'I': 8, 'J': 14} ['A', 'C']\n",
            "{'B': 11, 'G': 13, 'I': 6, 'J': 14, 'C': 12} ['A', 'C', 'H']\n",
            "{'B': 11, 'G': 13, 'J': 14, 'C': 16, 'H': 9} ['A', 'C', 'H', 'I']\n"
          ]
        },
        {
          "output_type": "execute_result",
          "data": {
            "text/plain": [
              "6"
            ]
          },
          "metadata": {},
          "execution_count": 3
        }
      ]
    },
    {
      "cell_type": "markdown",
      "source": [
        "## Greedy BFS"
      ],
      "metadata": {
        "id": "96BJXLGZCej-"
      }
    },
    {
      "cell_type": "code",
      "source": [
        "graph = {\n",
        "    'A':{'B':1, 'C':2},\n",
        "    'B':{'D':7, 'E':9, 'F':5},\n",
        "    'C':{'G':4, 'H':3, 'I':6, 'J':8},\n",
        "    'D':{'B':7},\n",
        "    'E':{'B':9},\n",
        "    'F':{'B':5},\n",
        "    'G':{'C':4},\n",
        "    'H':{'I':1, 'C':3},\n",
        "    'I':{'H':1, 'C':6},\n",
        "    'J':{'C':8}\n",
        "}\n",
        "\n",
        "h = {'A':8, 'B':10, 'C':4, 'D':15, 'E':14, 'F':12, 'G':7, 'H':2, 'I':0, 'J':4}\n",
        "\n",
        "print(graph, h)"
      ],
      "metadata": {
        "colab": {
          "base_uri": "https://localhost:8080/"
        },
        "id": "t0Ma1qCuCmFp",
        "outputId": "b1353932-61df-4d55-be4a-546e11c40e60"
      },
      "execution_count": 2,
      "outputs": [
        {
          "output_type": "stream",
          "name": "stdout",
          "text": [
            "{'A': {'B': 1, 'C': 2}, 'B': {'D': 7, 'E': 9, 'F': 5}, 'C': {'G': 4, 'H': 3, 'I': 6, 'J': 8}, 'D': {'B': 7}, 'E': {'B': 9}, 'F': {'B': 5}, 'G': {'C': 4}, 'H': {'I': 1, 'C': 3}, 'I': {'H': 1, 'C': 6}, 'J': {'C': 8}} {'A': 8, 'B': 10, 'C': 4, 'D': 15, 'E': 14, 'F': 12, 'G': 7, 'H': 2, 'I': 0, 'J': 4}\n"
          ]
        }
      ]
    },
    {
      "cell_type": "code",
      "source": [
        "def select_key(open):\n",
        "    least = 10000\n",
        "    node = ''\n",
        "    for i in open.keys():\n",
        "        if least>open[i]:\n",
        "            node = i\n",
        "            least=open[i]\n",
        "    return node"
      ],
      "metadata": {
        "id": "AKrBlchyMXPi"
      },
      "execution_count": 3,
      "outputs": []
    },
    {
      "cell_type": "code",
      "source": [
        "def Greedy_BFS(g, h, start, goal):\n",
        "    open = {start:h[start]}\n",
        "    closed = []\n",
        "    cost = 0\n",
        "    while goal not in closed:\n",
        "        node = select_key(open)\n",
        "        cost = open.pop(select_key(open))\n",
        "        closed.append(node)\n",
        "        new = g[node].copy()\n",
        "        for i in new:\n",
        "            new[i]=h[i]\n",
        "        open.update(new)\n",
        "        print(open, closed)\n",
        "    cost = 0\n",
        "    for i in range(len(closed)-1):\n",
        "        cost+=g[closed[i]][closed[i+1]]\n",
        "    return cost\n",
        "\n",
        "Greedy_BFS(graph, h, 'A', 'I')"
      ],
      "metadata": {
        "colab": {
          "base_uri": "https://localhost:8080/"
        },
        "id": "JLqzY8J9LhoC",
        "outputId": "c13d1b0b-b1c2-43cd-fee1-fbb4e8219960"
      },
      "execution_count": 6,
      "outputs": [
        {
          "output_type": "stream",
          "name": "stdout",
          "text": [
            "{'B': 10, 'C': 4} ['A']\n",
            "{'B': 10, 'G': 7, 'H': 2, 'I': 0, 'J': 4} ['A', 'C']\n",
            "{'B': 10, 'G': 7, 'H': 2, 'J': 4, 'C': 4} ['A', 'C', 'I']\n"
          ]
        },
        {
          "output_type": "execute_result",
          "data": {
            "text/plain": [
              "8"
            ]
          },
          "metadata": {},
          "execution_count": 6
        }
      ]
    }
  ]
}