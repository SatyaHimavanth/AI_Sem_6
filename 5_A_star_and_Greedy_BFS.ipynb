{
  "nbformat": 4,
  "nbformat_minor": 0,
  "metadata": {
    "colab": {
      "provenance": []
    },
    "kernelspec": {
      "name": "python3",
      "display_name": "Python 3"
    },
    "language_info": {
      "name": "python"
    }
  },
  "cells": [
    {
      "cell_type": "markdown",
      "source": [
        "## A*"
      ],
      "metadata": {
        "id": "GoXMhNVSCfdg"
      }
    },
    {
      "cell_type": "code",
      "execution_count": 32,
      "metadata": {
        "colab": {
          "base_uri": "https://localhost:8080/"
        },
        "id": "s4Fww1yIz24W",
        "outputId": "d2fab693-56a9-43c9-cd24-e98cef5807d1"
      },
      "outputs": [
        {
          "output_type": "stream",
          "name": "stdout",
          "text": [
            "{'S': {'A': 5, 'B': 2, 'C': 5}, 'A': {'D': 4, 'E': 2}, 'B': {'F': 3, 'G': 2}, 'C': {'H': 7}, 'D': {'L': 18}, 'E': {'K': 2}, 'F': {'I': 8}, 'G': {'F': 1}, 'H': {'I': 4, 'J': 1}, 'I': {'L': 8, 'M': 1}, 'J': {}, 'K': {'I': 12}, 'L': {}, 'M': {'L': 2}} {'S': 0, 'A': 2, 'B': 6, 'C': 5, 'D': 10, 'E': 8, 'F': 13, 'G': 14, 'H': 7, 'I': 5, 'J': 6, 'K': 1, 'L': 0, 'M': 1}\n"
          ]
        }
      ],
      "source": [
        "graph = {\n",
        "    'S':{'A':5, 'B':2, 'C':5},\n",
        "    'A':{'D':4, 'E':2},\n",
        "    'B':{'F':3, 'G':2},\n",
        "    'C':{'H':7},\n",
        "    'D':{'L':18},\n",
        "    'E':{'K':2},\n",
        "    'F':{'I':8},\n",
        "    'G':{'F':1},\n",
        "    'H':{'I':4, 'J':1},\n",
        "    'I':{'L':8, 'M':1},\n",
        "    'J':{},\n",
        "    'K':{'I':12},\n",
        "    'L':{},\n",
        "    'M':{'L':2}\n",
        "}\n",
        "\n",
        "h = {'S':0, 'A':2, 'B':6, 'C':5, 'D':10, 'E':8, 'F':13, 'G':14, 'H':7, 'I':5, 'J':6, 'K':1, 'L':0, 'M':1}\n",
        "\n",
        "print(graph, h)"
      ]
    },
    {
      "cell_type": "code",
      "source": [
        "def select_key(open):\n",
        "    least = 10000\n",
        "    node = ''\n",
        "    for i in open.keys():\n",
        "        if least>open[i]:\n",
        "            node = i\n",
        "            least=open[i]\n",
        "    return node"
      ],
      "metadata": {
        "id": "QYVEXqeg3xql"
      },
      "execution_count": 4,
      "outputs": []
    },
    {
      "cell_type": "code",
      "source": [
        "def A_star(g, h, start, goal):\n",
        "    open = {start:h[start]}\n",
        "    closed = []\n",
        "    while(goal not in closed):\n",
        "        node = select_key(open)\n",
        "        cost = open.pop(select_key(open))\n",
        "        closed.append(node)\n",
        "        to_be_updated = g[node].copy()\n",
        "        for i in to_be_updated.keys():\n",
        "            to_be_updated[i]=(cost-h[node]) + to_be_updated[i] + h[i]\n",
        "        open.update(to_be_updated)\n",
        "        print(open, closed)\n",
        "\n",
        "A_star(graph.copy(), h, 'S', 'L')"
      ],
      "metadata": {
        "id": "q_Aswimm2eF5"
      },
      "execution_count": null,
      "outputs": []
    },
    {
      "cell_type": "markdown",
      "source": [
        "## Greedy BFS"
      ],
      "metadata": {
        "id": "96BJXLGZCej-"
      }
    },
    {
      "cell_type": "code",
      "source": [
        "graph = {\n",
        "    'A':{'B':1, 'C':2},\n",
        "    'B':{'D':7, 'E':9, 'F':5},\n",
        "    'C':{'G':4, 'H':3, 'I':6, 'J':8},\n",
        "    'D':{},\n",
        "    'E':{},\n",
        "    'F':{},\n",
        "    'G':{},\n",
        "    'H':{'I':1},\n",
        "    'I':{'H':1},\n",
        "    'J':{}\n",
        "}\n",
        "\n",
        "h = {'A':8, 'B':10, 'C':4, 'D':15, 'E':14, 'F':12, 'G':7, 'H':2, 'I':0, 'J':4}\n",
        "\n",
        "print(graph, h)"
      ],
      "metadata": {
        "colab": {
          "base_uri": "https://localhost:8080/"
        },
        "id": "t0Ma1qCuCmFp",
        "outputId": "d82534ce-422a-47d9-f386-1c9b40d4feee"
      },
      "execution_count": 37,
      "outputs": [
        {
          "output_type": "stream",
          "name": "stdout",
          "text": [
            "{'A': {'B': 1, 'C': 2}, 'B': {'D': 7, 'E': 9, 'F': 5}, 'C': {'G': 4, 'H': 3, 'I': 6, 'J': 8}, 'D': {}, 'E': {}, 'F': {}, 'G': {}, 'H': {'I': 1}, 'I': {'H': 1}, 'J': {}} {'A': 8, 'B': 10, 'C': 4, 'D': 15, 'E': 14, 'F': 12, 'G': 7, 'H': 2, 'I': 0, 'J': 4}\n"
          ]
        }
      ]
    },
    {
      "cell_type": "code",
      "source": [
        "def select_key(open):\n",
        "    least = 10000\n",
        "    node = ''\n",
        "    for i in open.keys():\n",
        "        if least>open[i]:\n",
        "            node = i\n",
        "            least=open[i]\n",
        "    return node"
      ],
      "metadata": {
        "id": "AKrBlchyMXPi"
      },
      "execution_count": null,
      "outputs": []
    },
    {
      "cell_type": "code",
      "source": [
        "def Greedy_BFS(g, h, start, goal):\n",
        "    open = {start:h[start]}\n",
        "    closed = []\n",
        "    while goal not in closed:\n",
        "        node = select_key(open)\n",
        "        cost = open.pop(select_key(open))\n",
        "        closed.append(node)\n",
        "        new = g[node].copy()\n",
        "        for i in new:\n",
        "            new[i]=h[i]\n",
        "        open.update(new)\n",
        "        print(open, closed)\n",
        "\n",
        "Greedy_BFS(graph, h, 'A', 'I')"
      ],
      "metadata": {
        "colab": {
          "base_uri": "https://localhost:8080/"
        },
        "id": "JLqzY8J9LhoC",
        "outputId": "6563cc29-d309-44b0-89e6-7e64edd4bf84"
      },
      "execution_count": 43,
      "outputs": [
        {
          "output_type": "stream",
          "name": "stdout",
          "text": [
            "{'B': 10, 'C': 4} ['A']\n",
            "{'B': 10, 'G': 7, 'H': 2, 'I': 0, 'J': 4} ['A', 'C']\n",
            "{'B': 10, 'G': 7, 'H': 2, 'J': 4} ['A', 'C', 'I']\n"
          ]
        }
      ]
    }
  ]
}